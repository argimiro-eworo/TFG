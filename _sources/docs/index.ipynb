{
 "cells": [
  {
   "cell_type": "markdown",
   "id": "7203f4c8",
   "metadata": {},
   "source": [
    "(index)=\n",
    "\n",
    "# <center>INTRODUCCIÓN<center/>\n",
    "\n",
    "El objetivo de este libro electrónico es reunir una serie de ejemplos ilustrativos que demuestren las distintas posibilidades que ofrece la tecnología\n",
    "jupyter y jupyter books para publicación de contenidos de proyectos de ciencias de datos y/o machine learning.\n",
    "\n",
    "Dichos ejemplos están basados en la reproducibilidad científica. La reproducibilidad es la característica de un proyecto de poder ser recreado, \n",
    "siguiendo los mismos pasos detallados y con los mismos datos y/o distintos, llegando siempre a resultados idénticos.\n",
    "\n",
    "Para eso vamos a ilustrar los siguientes proyectos:\n",
    "\n",
    "- [End To End Machine Learning](https://argimiro-eworo.github.io/TFG/docs/end2end.html): Analizaremos, con datos proporcionados,\n",
    "varios algoritmos de predicción para los precios de viviendas en la costa de california. Nos vamos a basar en el libro {cite}`geron2019hands`.\n",
    "\n",
    "- [El Tiempo En Nueva York](https://argimiro-eworo.github.io/TFG/docs/Capitulo_altair.html): Con datos brutos del tiempo en Nueva York y haciendo \n",
    "uso de la herramienta Altair {cite}`vanderplas2018altair`, crearemos una gráfico interactivo que relaciona los meses del año y las temperaturas.\n",
    "\n",
    "- [Citi Bike en Nueva York](https://argimiro-eworo.github.io/TFG/docs/capitulo_geopandas.html): Con datos brutos del sistema de intercambio de \n",
    "bicicletas en NY y haciendo uso de la herramienta Geopandas {cite}`jordahl2014geopandas`, ilustraremos sobre un  mapa interactivo, la localización de cada estación así como información del\n",
    "ńumero de llegadas y salidas de bicis en cada una.\n",
    "\n",
    "## Bibliografía\n",
    "\n",
    "```{bibliography} ../_bibliography/references.bib\n",
    "```"
   ]
  }
 ],
 "metadata": {
  "jupytext": {
   "text_representation": {
    "extension": ".md",
    "format_name": "myst"
   }
  },
  "kernelspec": {
   "display_name": "Python 3",
   "language": "python",
   "name": "python3"
  },
  "language_info": {
   "codemirror_mode": {
    "name": "ipython",
    "version": 3
   },
   "file_extension": ".py",
   "mimetype": "text/x-python",
   "name": "python",
   "nbconvert_exporter": "python",
   "pygments_lexer": "ipython3",
   "version": "3.8.8"
  },
  "source_map": [
   10
  ]
 },
 "nbformat": 4,
 "nbformat_minor": 5
}